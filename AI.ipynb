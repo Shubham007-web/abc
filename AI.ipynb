{
 "cells": [
  {
   "cell_type": "markdown",
   "id": "4dd037ba",
   "metadata": {},
   "source": [
    "# AI and ML"
   ]
  },
  {
   "cell_type": "markdown",
   "id": "bcd4f8d0",
   "metadata": {},
   "source": [
    "## Table of Contents\n",
    "1. The Big Data Picture\n",
    "    - Big Data, Big Value\n",
    "\n",
    "    - Causation vs. Correlation\n",
    "\n",
    "    - Evolution of Data Science\n",
    "\n",
    "    - Data at a Massive Scale\n",
    "    \n",
    "2. Machine Learning as a Career\n",
    "   - Skills and Tasks\n",
    "\n",
    "   - Selling the Story\n",
    "\n",
    "   - Use Case: The Bank\n",
    "3. Decisions and Tools\n",
    "    - From Data to Strategy\n",
    "\n",
    "    - Techniques for Answering Business Questions\n",
    "\n",
    "    - Machine Learning Tasks and Tools\n",
    "4. What's Next?\n",
    "    - Recommender Systems\n",
    "\n",
    "    - Looking to the Future\n",
    "\n",
    "    - Dating with Data"
   ]
  },
  {
   "cell_type": "markdown",
   "id": "de37026b",
   "metadata": {},
   "source": [
    "### Introduction\n",
    "\t\n",
    "- Welcome to Artificial Intelligence and Machine Learning! This first module will look at the big data science picture to better understand our context for this program. We will look to the past to know how the internet and data science have evolved, and we will also look to the future and try to predict what may come next.\n",
    "\n",
    "- This module is like a first date with data: it provides an overview of fundamental concepts and definitions that will be useful for you as you progress in the course. Hopefully, it will be love at first sight, and we'll see you for a second date in a week."
   ]
  },
  {
   "cell_type": "code",
   "execution_count": null,
   "id": "c7d0aae4",
   "metadata": {},
   "outputs": [],
   "source": []
  }
 ],
 "metadata": {
  "kernelspec": {
   "display_name": "Python 3 (ipykernel)",
   "language": "python",
   "name": "python3"
  },
  "language_info": {
   "codemirror_mode": {
    "name": "ipython",
    "version": 3
   },
   "file_extension": ".py",
   "mimetype": "text/x-python",
   "name": "python",
   "nbconvert_exporter": "python",
   "pygments_lexer": "ipython3",
   "version": "3.9.13"
  }
 },
 "nbformat": 4,
 "nbformat_minor": 5
}
